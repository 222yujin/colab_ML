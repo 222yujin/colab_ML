{
  "nbformat": 4,
  "nbformat_minor": 0,
  "metadata": {
    "colab": {
      "provenance": [],
      "authorship_tag": "ABX9TyMXFpRfYyONYuZ4im+KGuTt",
      "include_colab_link": true
    },
    "kernelspec": {
      "name": "python3",
      "display_name": "Python 3"
    },
    "language_info": {
      "name": "python"
    }
  },
  "cells": [
    {
      "cell_type": "markdown",
      "metadata": {
        "id": "view-in-github",
        "colab_type": "text"
      },
      "source": [
        "<a href=\"https://colab.research.google.com/github/222yujin/colab_ML/blob/main/02_1.ipynb\" target=\"_parent\"><img src=\"https://colab.research.google.com/assets/colab-badge.svg\" alt=\"Open In Colab\"/></a>"
      ]
    },
    {
      "cell_type": "markdown",
      "source": [
        "# **지도학습**\n",
        "훈련하기 위한 데이터와 정답이 필요함\n",
        "\n",
        "데이터와 정답을 **입력**과 **타깃** 이라고 하고\n",
        "\n",
        "이 둘을 합쳐 **훈련데이터**라고 함\n",
        "\n",
        "# **비지도학습**\n",
        "\n",
        "타깃 없이 입력 데이터만 사용\n",
        "\n",
        "이런 종류의 알고리즘은 정답을 사용하지 않으므로 무언가를 맞힐 순 없음\n",
        "\n",
        "대신 데이터를 잘 파악하거나 변형하는데 도움을 줌"
      ],
      "metadata": {
        "id": "VON-tIFahF3C"
      }
    },
    {
      "cell_type": "markdown",
      "source": [
        "**테스트세트**\n",
        "\n",
        "평가에 사용하는 데이터\n",
        "\n",
        "**훈련세트**\n",
        "\n",
        "훈련에 사용되는 데이터"
      ],
      "metadata": {
        "id": "2o32KUITi6b7"
      }
    },
    {
      "cell_type": "code",
      "execution_count": 2,
      "metadata": {
        "id": "KtIRfBilhC0i"
      },
      "outputs": [],
      "source": [
        "fish_length = [25.4, 26.3, 26.5, 29.0, 29.0, 29.7, 29.7, 30.0, 30.0, 30.7, 31.0, 31.0,\n",
        "                31.5, 32.0, 32.0, 32.0, 33.0, 33.0, 33.5, 33.5, 34.0, 34.0, 34.5, 35.0,\n",
        "                35.0, 35.0, 35.0, 36.0, 36.0, 37.0, 38.5, 38.5, 39.5, 41.0, 41.0, 9.8,\n",
        "                10.5, 10.6, 11.0, 11.2, 11.3, 11.8, 11.8, 12.0, 12.2, 12.4, 13.0, 14.3, 15.0]\n",
        "fish_weight = [242.0, 290.0, 340.0, 363.0, 430.0, 450.0, 500.0, 390.0, 450.0, 500.0, 475.0, 500.0,\n",
        "                500.0, 340.0, 600.0, 600.0, 700.0, 700.0, 610.0, 650.0, 575.0, 685.0, 620.0, 680.0,\n",
        "                700.0, 725.0, 720.0, 714.0, 850.0, 1000.0, 920.0, 955.0, 925.0, 975.0, 950.0, 6.7,\n",
        "                7.5, 7.0, 9.7, 9.8, 8.7, 10.0, 9.9, 9.8, 12.2, 13.4, 12.2, 19.7, 19.9]\n",
        "\n",
        "fish_data = [[l,w] for l ,w in zip(fish_length,fish_weight)]\n",
        "fish_target = [1]*35 +[0]*14\n",
        "\n",
        "##여기서 하나의 생선 데이터를 샘플이라고 함 => 총 49개의 샘플이 있음\n",
        "\n",
        "##35개는 훈련세트, 14개는 테스트 세트로 사용\n",
        "\n",
        "train_input = fish_data[:35]\n",
        "train_target = fish_target[:35]\n",
        "\n",
        "test_input = fish_data[35:]\n",
        "test_target = fish_target[35:]"
      ]
    },
    {
      "cell_type": "code",
      "source": [
        "from sklearn.neighbors import KNeighborsClassifier\n",
        "kn = KNeighborsClassifier()\n",
        "kn = kn.fit(train_input,train_target)\n",
        "kn.score(test_input,test_target)\n",
        "\n",
        "##r정확도가 0.0이 나옴\n",
        "## 훈련세트에는 빙어가 하나도 들어있지 않아서 빙어 없이 모델을 훈련시켰기때문,,!\n"
      ],
      "metadata": {
        "colab": {
          "base_uri": "https://localhost:8080/"
        },
        "id": "v2VZatWmj2td",
        "outputId": "05489d34-51be-4b68-f56f-25e0ad570c9e"
      },
      "execution_count": 3,
      "outputs": [
        {
          "output_type": "execute_result",
          "data": {
            "text/plain": [
              "0.0"
            ]
          },
          "metadata": {},
          "execution_count": 3
        }
      ]
    },
    {
      "cell_type": "markdown",
      "source": [
        "**샘플링편향**\n",
        "\n",
        "훈련세트와 테스트 세트에 샘플이 골고루 섞여있지 않고 샘플링이 한쪽으로 치우쳐져있는 상황"
      ],
      "metadata": {
        "id": "83YcfokulX9G"
      }
    },
    {
      "cell_type": "code",
      "source": [
        "import numpy as np\n",
        "\n",
        "input_arr = np.array(fish_data)\n",
        "target_arr = np.array(fish_target)\n",
        "\n",
        "print(input_arr)"
      ],
      "metadata": {
        "colab": {
          "base_uri": "https://localhost:8080/"
        },
        "id": "1oXNw5Zlla-i",
        "outputId": "5a09dd55-4447-4c6e-dd77-2f369740bb2d"
      },
      "execution_count": 4,
      "outputs": [
        {
          "output_type": "stream",
          "name": "stdout",
          "text": [
            "[[  25.4  242. ]\n",
            " [  26.3  290. ]\n",
            " [  26.5  340. ]\n",
            " [  29.   363. ]\n",
            " [  29.   430. ]\n",
            " [  29.7  450. ]\n",
            " [  29.7  500. ]\n",
            " [  30.   390. ]\n",
            " [  30.   450. ]\n",
            " [  30.7  500. ]\n",
            " [  31.   475. ]\n",
            " [  31.   500. ]\n",
            " [  31.5  500. ]\n",
            " [  32.   340. ]\n",
            " [  32.   600. ]\n",
            " [  32.   600. ]\n",
            " [  33.   700. ]\n",
            " [  33.   700. ]\n",
            " [  33.5  610. ]\n",
            " [  33.5  650. ]\n",
            " [  34.   575. ]\n",
            " [  34.   685. ]\n",
            " [  34.5  620. ]\n",
            " [  35.   680. ]\n",
            " [  35.   700. ]\n",
            " [  35.   725. ]\n",
            " [  35.   720. ]\n",
            " [  36.   714. ]\n",
            " [  36.   850. ]\n",
            " [  37.  1000. ]\n",
            " [  38.5  920. ]\n",
            " [  38.5  955. ]\n",
            " [  39.5  925. ]\n",
            " [  41.   975. ]\n",
            " [  41.   950. ]\n",
            " [   9.8    6.7]\n",
            " [  10.5    7.5]\n",
            " [  10.6    7. ]\n",
            " [  11.     9.7]\n",
            " [  11.2    9.8]\n",
            " [  11.3    8.7]\n",
            " [  11.8   10. ]\n",
            " [  11.8    9.9]\n",
            " [  12.     9.8]\n",
            " [  12.2   12.2]\n",
            " [  12.4   13.4]\n",
            " [  13.    12.2]\n",
            " [  14.3   19.7]\n",
            " [  15.    19.9]]\n"
          ]
        }
      ]
    },
    {
      "cell_type": "code",
      "source": [
        "print(input_arr.shape)\n",
        "##(49,2) (샘플수,특성수)"
      ],
      "metadata": {
        "colab": {
          "base_uri": "https://localhost:8080/"
        },
        "id": "UdaVhkLbmpo4",
        "outputId": "908facc5-d637-4126-a548-75e6d6de6ca0"
      },
      "execution_count": 8,
      "outputs": [
        {
          "output_type": "stream",
          "name": "stdout",
          "text": [
            "(49, 2)\n"
          ]
        }
      ]
    },
    {
      "cell_type": "markdown",
      "source": [
        "input_arr와 target_arr에서 같은 위치는 함께 선택되어야한다\n",
        "\n",
        "입력과 타깃이 한 쌍이 되어야함"
      ],
      "metadata": {
        "id": "YAiCaYDqnmM4"
      }
    },
    {
      "cell_type": "code",
      "source": [
        "#np,random.seed(42) 일정한 결과를 얻기 위한 시드\n",
        "\n",
        "index = np.arange(49)##0-48까지의 정수배열\n",
        "np.random.shuffle(index) ##index배열을 셔플\n",
        "##[ 6 16 46 25 24 27 11  9 43 41  8  7  5 18  2 13 26 48 29  4 42 20 38 37 17 21 28 23 30  1 14 35 36 33 15 19 32 39 31  3 22 45 34  0 10 40 44 47 12]\n",
        "\n",
        "train_input = input_arr[index[:35]] ## index 배열의 34번째까지 해당되는 숫자들이 input_arr의 인덱스가 되어 해당하는 데이터가 들어감\n",
        "train_target= target_arr[index[:35]]\n",
        "\n",
        "\n",
        "test_input = input_arr[index[35:]]\n",
        "test_target= target_arr[index[35:]]\n"
      ],
      "metadata": {
        "id": "Csk7EQKHn6an"
      },
      "execution_count": 5,
      "outputs": []
    },
    {
      "cell_type": "code",
      "source": [
        "import matplotlib.pyplot as plt\n",
        "\n",
        "plt.scatter(train_input[:,0],train_input[:,1]) #2차원배열의 행=> 전체 인덱스 모두 선택, 열 => 특성만 선택(0과 1)\n",
        "plt.scatter(test_input[:,0],test_input[:,1])\n",
        "plt.xlabel('length')\n",
        "plt.ylabel('weight')\n",
        "plt.show()"
      ],
      "metadata": {
        "colab": {
          "base_uri": "https://localhost:8080/",
          "height": 449
        },
        "id": "aM15TGiIpM7I",
        "outputId": "37939ed6-112d-4850-b935-a14a3c941c2e"
      },
      "execution_count": 7,
      "outputs": [
        {
          "output_type": "display_data",
          "data": {
            "text/plain": [
              "<Figure size 640x480 with 1 Axes>"
            ],
            "image/png": "[encoded data removed]"
          },
          "metadata": {}
        }
      ]
    },
    {
      "cell_type": "code",
      "source": [
        "kn = kn.fit(train_input,train_target)\n",
        "kn.score(test_input,test_target)\n",
        "\n",
        "## 훈련 세트와 테스트세트의 데이터를 섞어서 훈련후 모델을 테스트 해보면 정확도가 높아졌음"
      ],
      "metadata": {
        "colab": {
          "base_uri": "https://localhost:8080/"
        },
        "id": "bR_sX21bp5KD",
        "outputId": "24194e0d-5eb1-4575-c856-76fbc365dc25"
      },
      "execution_count": 8,
      "outputs": [
        {
          "output_type": "execute_result",
          "data": {
            "text/plain": [
              "1.0"
            ]
          },
          "metadata": {},
          "execution_count": 8
        }
      ]
    }
  ]
}